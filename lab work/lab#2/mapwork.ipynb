{
 "cells": [
  {
   "cell_type": "code",
   "execution_count": 2,
   "id": "ed291da1-b963-41bc-ba12-3d469437b0b9",
   "metadata": {},
   "outputs": [],
   "source": [
    "import folium\n",
    "import os\n",
    "import json\n"
   ]
  },
  {
   "cell_type": "code",
   "execution_count": 24,
   "id": "f95201f7-e923-4b08-a7cd-88a67660c3e5",
   "metadata": {},
   "outputs": [],
   "source": [
    "m = folium.Map(location=[   72.36127853393555,\n",
    "            33.76958705802806], zoom_start=12)\n",
    "\n",
    "logoIcon = folium.features.CustomIcon(\"download.jpg\", icon_size=(50, 50))\n",
    "folium.Marker([\n",
    "            72.37037658691406,\n",
    "            33.77386790929991\n",
    "          ],\n",
    "popup='<strong>Location</strong>',\n",
    "icon=logoIcon).add_to(m)\n",
    "\n",
    "logoIcon = folium.features.CustomIcon(\"download (1).jpg\", icon_size=(50, 50))\n",
    "folium.Marker([\n",
    "            72.40591049194336,\n",
    "            33.798763953284556\n",
    "          ],\n",
    "popup='<strong>Location</strong>',\n",
    "icon=logoIcon).add_to(m)\n",
    "\n",
    "logoIcon = folium.features.CustomIcon(\"download (2).jpg\", icon_size=(50, 50))\n",
    "folium.Marker([\n",
    "            72.42977142333984,\n",
    "            33.782428970146114\n",
    "          ],\n",
    "popup='<strong>Location</strong>',\n",
    "icon=logoIcon).add_to(m)\n",
    "\n",
    "logoIcon = folium.features.CustomIcon(\"download (3).jpg\", icon_size=(50, 50))\n",
    "folium.Marker([\n",
    "            72.39981651306152,\n",
    "            33.76537734571317\n",
    "          ],\n",
    "popup='<strong>Location</strong>',\n",
    "icon=logoIcon).add_to(m)\n",
    "\n",
    "\n",
    "\n",
    "\n",
    "\n",
    "# Generate map\n",
    "m.save('Campbellpur.html')\n",
    "    "
   ]
  },
  {
   "cell_type": "code",
   "execution_count": null,
   "id": "70468bef-0752-4bbf-b810-7888b6fde11b",
   "metadata": {},
   "outputs": [],
   "source": []
  }
 ],
 "metadata": {
  "kernelspec": {
   "display_name": "Python 3 (ipykernel)",
   "language": "python",
   "name": "python3"
  },
  "language_info": {
   "codemirror_mode": {
    "name": "ipython",
    "version": 3
   },
   "file_extension": ".py",
   "mimetype": "text/x-python",
   "name": "python",
   "nbconvert_exporter": "python",
   "pygments_lexer": "ipython3",
   "version": "3.8.7"
  }
 },
 "nbformat": 4,
 "nbformat_minor": 5
}
